{
 "cells": [
  {
   "cell_type": "code",
   "execution_count": 12,
   "metadata": {},
   "outputs": [],
   "source": [
    "import requests"
   ]
  },
  {
   "cell_type": "code",
   "execution_count": 13,
   "metadata": {},
   "outputs": [],
   "source": [
    "content = '''<html xmlns=\"http://www.w3.org/1999/xhtml\"><head><meta name=\"viewport\" content=\"width=device-width, minimum-scale=0.1\" /><title>getqqicon (40×40)</title></head><body style=\"margin: 0px; background: #0e0e0e;\"><img style=\"-webkit-user-select: none;\" src=\"https://mail.qq.com/cgi-bin/getqqicon?mode=newaddr&amp;sid=MWFQocoJR7O6WkQY&amp;mailaddr=66600000@qq.com\" /></body></html>'''"
   ]
  },
  {
   "cell_type": "code",
   "execution_count": 14,
   "metadata": {},
   "outputs": [
    {
     "name": "stdout",
     "output_type": "stream",
     "text": [
      "<html xmlns=\"http://www.w3.org/1999/xhtml\"><head><meta name=\"viewport\" content=\"width=device-width, minimum-scale=0.1\" /><title>getqqicon (40×40)</title></head><body style=\"margin: 0px; background: #0e0e0e;\"><img style=\"-webkit-user-select: none;\" src=\"https://mail.qq.com/cgi-bin/getqqicon?mode=newaddr&amp;sid=MWFQocoJR7O6WkQY&amp;mailaddr=66600000@qq.com\" /></body></html>\n",
      "375\n"
     ]
    }
   ],
   "source": [
    "print(content)\n",
    "print(len(content))"
   ]
  },
  {
   "cell_type": "code",
   "execution_count": 15,
   "metadata": {},
   "outputs": [
    {
     "data": {
      "text/plain": [
       "b'<html xmlns=\"http://www.w3.org/1999/xhtml\"><head><meta name=\"viewport\" content=\"width=device-width, minimum-scale=0.1\" /><title>getqqicon (40\\xc3\\x9740)</title></head><body style=\"margin: 0px; background: #0e0e0e;\"><img style=\"-webkit-user-select: none;\" src=\"https://mail.qq.com/cgi-bin/getqqicon?mode=newaddr&amp;sid=MWFQocoJR7O6WkQY&amp;mailaddr=66600000@qq.com\" /></body></html>'"
      ]
     },
     "execution_count": 15,
     "metadata": {},
     "output_type": "execute_result"
    }
   ],
   "source": [
    "content.encode()"
   ]
  },
  {
   "cell_type": "code",
   "execution_count": 17,
   "metadata": {},
   "outputs": [],
   "source": [
    "with open('test.jpg','wb') as  f:\n",
    "    f.write(content.encode())"
   ]
  },
  {
   "cell_type": "markdown",
   "metadata": {},
   "source": [
    "# Contrast"
   ]
  },
  {
   "cell_type": "code",
   "execution_count": null,
   "metadata": {},
   "outputs": [],
   "source": [
    "url = ''"
   ]
  }
 ],
 "metadata": {
  "kernelspec": {
   "display_name": "Python 3",
   "language": "python",
   "name": "python3"
  },
  "language_info": {
   "codemirror_mode": {
    "name": "ipython",
    "version": 3
   },
   "file_extension": ".py",
   "mimetype": "text/x-python",
   "name": "python",
   "nbconvert_exporter": "python",
   "pygments_lexer": "ipython3",
   "version": "3.6.5"
  }
 },
 "nbformat": 4,
 "nbformat_minor": 2
}
